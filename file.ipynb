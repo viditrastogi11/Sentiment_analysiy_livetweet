{
 "cells": [
  {
   "cell_type": "code",
   "execution_count": 102,
   "metadata": {},
   "outputs": [],
   "source": [
    "import tweepy"
   ]
  },
  {
   "cell_type": "code",
   "execution_count": 103,
   "metadata": {},
   "outputs": [],
   "source": [
    "import re"
   ]
  },
  {
   "cell_type": "code",
   "execution_count": 104,
   "metadata": {},
   "outputs": [],
   "source": [
    "import pickle"
   ]
  },
  {
   "cell_type": "code",
   "execution_count": 90,
   "metadata": {},
   "outputs": [],
   "source": [
    "from tweepy import OAuthHandler"
   ]
  },
  {
   "cell_type": "code",
   "execution_count": 91,
   "metadata": {},
   "outputs": [],
   "source": [
    "#initialising"
   ]
  },
  {
   "cell_type": "code",
   "execution_count": 105,
   "metadata": {},
   "outputs": [],
   "source": [
    "consumer_key='nxHpOFdRNS42c3fgrt6BjmDIa'\n",
    "consumer_secret='A0URW0d8mhzaSAAWNUQPW2iS8ze5ZvCfvCd3VnhJLBwgaHcuel'\n",
    "access_token='1144627237401976833-nmbalx7BoqbxjkB86SDRyPJiWm3bWZ'\n",
    "access_secret='uKcMOp4Wihalu0R4KHugqYDnozfs9qQVxnxOqLqo1VDdw'"
   ]
  },
  {
   "cell_type": "code",
   "execution_count": 106,
   "metadata": {},
   "outputs": [],
   "source": [
    "#twitter authentication\n",
    "auth=OAuthHandler(consumer_key,consumer_secret)\n",
    "auth.set_access_token(access_token,access_secret)\n",
    "args=['corona']\n",
    "api=tweepy.API(auth,timeout=10)"
   ]
  },
  {
   "cell_type": "code",
   "execution_count": 107,
   "metadata": {},
   "outputs": [],
   "source": [
    "#tweets\n",
    "list_tweets=[]\n",
    "query=args[0]\n",
    "if len(args)==1:\n",
    "    for status in tweepy.Cursor(api.search,q=query+\"-filter:retweets\",lang='en',result_type='recent').items(20):\n",
    "        list_tweets.append(status.text)"
   ]
  },
  {
   "cell_type": "code",
   "execution_count": 108,
   "metadata": {},
   "outputs": [
    {
     "data": {
      "text/plain": [
       "['You are infected from a more deadly virus than corona. Get well soon. https://t.co/QfXx3wXVjp',\n",
       " 'Mfs act like corona gone smh',\n",
       " 'The people of Bihar continue to face several issues - starting from an ever-increasing number of corona positive ca… https://t.co/qfmZ5ZUQ9G',\n",
       " 'This will create danger of citizens being infected to corona virus as waste water could be one of carriers of the d… https://t.co/A5Z3P5fcK0',\n",
       " 'My homie got Corona I’m thankful he only has the fever &amp; chills',\n",
       " \"I ordered a toy time of corona they informed order cancellation from their side. But I didn't get it's repayment https://t.co/JLPuSUCLXt\",\n",
       " \"Nizamuddin was organizing muslim from different countries during corona pandemic than that time supreme Court didn'… https://t.co/Y4fFp50BhC\",\n",
       " 'There is so much negativity in our society. Children dont respect parents, people suffering from anxieties, aurat m… https://t.co/cuWMxUGLn8',\n",
       " '@JJamdoliya @RaviSai11793471 @ChouhanShivraj @drnarottammisra @JM_Scindia @OfficeOfKNath @News18MP @digvijaya_28… https://t.co/UUWRaWWoEV',\n",
       " 'Meditation Treatment for Corona Patients Wonderful Tamil – தமிழ்\\xa0News https://t.co/Rd3926vJEl',\n",
       " 'Hhhh not @ how I supposedly should enjoy my 2nd sem more bcs I joined a traditional dancing club for my curricular… https://t.co/12fzZPg0di',\n",
       " '@ppandbrainrater @Corona_Bot__ where',\n",
       " '@_debbii3e Miss that too. Corona spoilt everything 😬🤦🏼\\u200d♂️',\n",
       " 'Experts feel it will make people apprehensive of getting tested.\\n\\nI report for @PTI_News.\\n\\n#Corona #Covid_19… https://t.co/Igr4ivlORr',\n",
       " 'Corona taught me, some people rather die than be poor.. and there are others than be bored.',\n",
       " 'Did y’all bitches forget corona was still a thing??? Lol',\n",
       " 'Over here in Accra it’s Corona vrs Insha Allah',\n",
       " 'yall can believe in that fake ass corona crap all yall want to.   i dont and wont.   #LAWSUIT_PENDING https://t.co/BrAksClDPJ',\n",
       " 'Özil that didn’t play is who he called? Corona don affect my coach head cos I don’t understand https://t.co/60DJE3h8KB',\n",
       " \"@MollyJongFast It's about to be corona soup in that arena soon.\"]"
      ]
     },
     "execution_count": 108,
     "metadata": {},
     "output_type": "execute_result"
    }
   ],
   "source": [
    "list_tweets\n"
   ]
  },
  {
   "cell_type": "code",
   "execution_count": 109,
   "metadata": {},
   "outputs": [],
   "source": [
    "#getting vectorizer\n",
    "with open('tfidfvector.pickle','rb') as f:\n",
    "    tfidf=pickle.load(f)"
   ]
  },
  {
   "cell_type": "code",
   "execution_count": 110,
   "metadata": {},
   "outputs": [],
   "source": [
    "#getting classifier which already fit\n",
    "with open('classifier.pickle','rb') as f:\n",
    "    clfr=pickle.load(f)"
   ]
  },
  {
   "cell_type": "code",
   "execution_count": 111,
   "metadata": {},
   "outputs": [
    {
     "name": "stdout",
     "output_type": "stream",
     "text": [
      "1  you are infected from more deadly virus than corona get well soon :  NEGATIVE\n",
      "2  mfs act like corona gone smh:  NEGATIVE\n",
      "3  the people of bihar continue to face several issues starting from an ever increasing number of corona positive ca :  POSITIVE\n",
      "4  this will create danger of citizens being infected to corona virus as waste water could be one of carriers of the :  NEGATIVE\n",
      "5  my homie got corona m thankful he only has the fever amp chills:  NEGATIVE\n",
      "6   ordered toy time of corona they informed order cancellation from their side but didn get it repayment :  POSITIVE\n",
      "7  nizamuddin was organizing muslim from different countries during corona pandemic than that time supreme court didn :  POSITIVE\n",
      "8  there is so much negativity in our society children dont respect parents people suffering from anxieties aurat :  POSITIVE\n",
      "9   :  NEGATIVE\n",
      "10  meditation treatment for corona patients wonderful tamil தம ழ news :  POSITIVE\n",
      "11  hhhh not how supposedly should enjoy my nd sem more bcs joined traditional dancing club for my curricular :  NEGATIVE\n",
      "12   where:  NEGATIVE\n",
      "13   miss that too corona spoilt everything :  POSITIVE\n",
      "14  experts feel it will make people apprehensive of getting tested report for corona covid_ :  POSITIVE\n",
      "15  corona taught me some people rather die than be poor and there are others than be bored :  NEGATIVE\n",
      "16  did all bitches forget corona was still thing lol:  POSITIVE\n",
      "17  over here in accra it corona vrs insha allah:  NEGATIVE\n",
      "18  yall can believe in that fake ass corona crap all yall want to dont and wont lawsuit_pending :  NEGATIVE\n",
      "19  özil that didn play is who he called corona don affect my coach head cos don understand :  NEGATIVE\n",
      "20   it about to be corona soup in that arena soon :  NEGATIVE\n"
     ]
    }
   ],
   "source": [
    "#preprocessing and predicting the sentiment \n",
    "k=1;\n",
    "for tweet in list_tweets:\n",
    "    tweet=re.sub(r\"http[s]?://(?:[a-zA-Z]|[0-9]|[$-_@.&+]|[!*\\(\\),]|(?:%[0-9a-fA-F][0-9a-fA-F]))+\",\" \",tweet)\n",
    "    tweet=re.sub(r\"@\\w+\",\" \",tweet)\n",
    "    tweet=tweet.lower()\n",
    "    tweet=re.sub(r\"\\W\",\" \",tweet)\n",
    "    tweet=re.sub(r\"\\d\",\" \",tweet)\n",
    "    tweet=re.sub(r'\\s+[a-z]\\s+',' ',tweet)\n",
    "    tweet=re.sub(r'\\s+[a-z]\\$',' ',tweet)\n",
    "    tweet=re.sub(r'^[a-z]\\s+',' ',tweet)\n",
    "    tweet=re.sub(r'\\s+',' ',tweet)\n",
    "    \n",
    "    \n",
    "    sentiment=clfr.predict(tfidf.transform([tweet]).toarray())\n",
    "    \n",
    "    if(sentiment==1):\n",
    "        \n",
    "        print(k,' '+tweet+': '+' POSITIVE')\n",
    "        k=k+1;\n",
    "    else:\n",
    "        print(k,' '+tweet+': '+' NEGATIVE')\n",
    "        k=k+1;\n",
    "    "
   ]
  },
  {
   "cell_type": "code",
   "execution_count": null,
   "metadata": {},
   "outputs": [],
   "source": []
  },
  {
   "cell_type": "code",
   "execution_count": 84,
   "metadata": {},
   "outputs": [],
   "source": []
  },
  {
   "cell_type": "code",
   "execution_count": 115,
   "metadata": {},
   "outputs": [],
   "source": [
    "sample=[\"i m feeling very good this is my best project.\"]"
   ]
  },
  {
   "cell_type": "code",
   "execution_count": 116,
   "metadata": {},
   "outputs": [],
   "source": [
    "sentiment=clfr.predict(tfidf.transform(sample))"
   ]
  },
  {
   "cell_type": "code",
   "execution_count": 117,
   "metadata": {},
   "outputs": [
    {
     "data": {
      "text/plain": [
       "array([1])"
      ]
     },
     "execution_count": 117,
     "metadata": {},
     "output_type": "execute_result"
    }
   ],
   "source": [
    "sentiment"
   ]
  },
  {
   "cell_type": "code",
   "execution_count": null,
   "metadata": {},
   "outputs": [],
   "source": []
  },
  {
   "cell_type": "code",
   "execution_count": null,
   "metadata": {},
   "outputs": [],
   "source": []
  },
  {
   "cell_type": "code",
   "execution_count": null,
   "metadata": {},
   "outputs": [],
   "source": []
  },
  {
   "cell_type": "code",
   "execution_count": null,
   "metadata": {},
   "outputs": [],
   "source": []
  },
  {
   "cell_type": "code",
   "execution_count": null,
   "metadata": {},
   "outputs": [],
   "source": []
  },
  {
   "cell_type": "code",
   "execution_count": null,
   "metadata": {},
   "outputs": [],
   "source": []
  },
  {
   "cell_type": "code",
   "execution_count": null,
   "metadata": {},
   "outputs": [],
   "source": []
  },
  {
   "cell_type": "code",
   "execution_count": null,
   "metadata": {},
   "outputs": [],
   "source": []
  },
  {
   "cell_type": "code",
   "execution_count": null,
   "metadata": {},
   "outputs": [],
   "source": []
  },
  {
   "cell_type": "code",
   "execution_count": null,
   "metadata": {},
   "outputs": [],
   "source": []
  }
 ],
 "metadata": {
  "kernelspec": {
   "display_name": "Python 3",
   "language": "python",
   "name": "python3"
  },
  "language_info": {
   "codemirror_mode": {
    "name": "ipython",
    "version": 3
   },
   "file_extension": ".py",
   "mimetype": "text/x-python",
   "name": "python",
   "nbconvert_exporter": "python",
   "pygments_lexer": "ipython3",
   "version": "3.7.7"
  }
 },
 "nbformat": 4,
 "nbformat_minor": 4
}
